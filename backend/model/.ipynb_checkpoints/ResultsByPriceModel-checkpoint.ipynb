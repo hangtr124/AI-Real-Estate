{
 "cells": [
  {
   "cell_type": "code",
   "execution_count": 1,
   "id": "c65eedc5-62fe-44af-8e13-1c00656d7cda",
   "metadata": {
    "tags": []
   },
   "outputs": [],
   "source": [
    "from sklearn import tree\n",
    "from sklearn import preprocessing\n",
    "import joblib\n",
    "from joblib import dump\n",
    "import pathlib"
   ]
  },
  {
   "cell_type": "code",
   "execution_count": 2,
   "id": "362e8d9e-ab06-4e59-94ae-7abcd903f7bd",
   "metadata": {
    "tags": []
   },
   "outputs": [],
   "source": [
    "#Open the file and store the contents in the body variable\n",
    "file = open(pathlib.Path('../data/synthetic_data_set_rbp.csv'), 'r')\n",
    "body = file.readlines()\n",
    "\n",
    "#initialize the header and data_set list variables for storage\n",
    "header = []\n",
    "data_set = []\n",
    "\n",
    "#split lines from the body of the data and store it in the data_set variable\n",
    "for line in body:\n",
    "    columns = line.split(',')\n",
    "    if '\\n' in columns:\n",
    "        columns.remove('\\n')\n",
    "    data_set.append(columns)\n",
    "\n",
    "#seperate the header from the data\n",
    "header = data_set[0]\n",
    "data_set.remove(data_set[0])"
   ]
  },
  {
   "cell_type": "code",
   "execution_count": 3,
   "id": "5600cbf4-4013-4792-9395-1346a3d967b2",
   "metadata": {
    "tags": []
   },
   "outputs": [],
   "source": [
    "#price, ppsf, total sq. ft., days to sell, zip code, bedrooms, bathrooms, half bathrooms, year built, garage,\n",
    "#split the data_set list into features and labels lists\n",
    "feature_columns = [[], [], [], [], [], [], [], [], []]\n",
    "feature_set = []\n",
    "label_columns = []\n",
    "label_set = []\n",
    "#take each column and split it into the feature_set and label_set lists\n",
    "for x in data_set:\n",
    "    feature_columns[0].append(x[1])\n",
    "    feature_columns[1].append(x[2])\n",
    "    feature_columns[2].append(x[3])\n",
    "    feature_columns[3].append(x[4])\n",
    "    feature_columns[4].append(x[5])\n",
    "    feature_columns[5].append(x[6])\n",
    "    feature_columns[6].append(x[7])\n",
    "    feature_columns[7].append(x[8])\n",
    "    label_columns.append(x[0].strip())\n",
    "\n",
    "#cast integer columns to int without encoding for features and labels\n",
    "feature_columns[0] = [eval(x) for x in feature_columns[0]]\n",
    "feature_columns[1] = [eval(x) for x in feature_columns[1]]\n",
    "feature_columns[2] = [eval(x) for x in feature_columns[2]]\n",
    "feature_columns[3] = [eval(x) for x in feature_columns[3]]\n",
    "feature_columns[4] = [eval(x) for x in feature_columns[4]]\n",
    "feature_columns[5] = [eval(x) for x in feature_columns[5]]\n",
    "feature_columns[6] = [eval(x) for x in feature_columns[6]]\n",
    "label_columns = [eval(x) for x in label_columns]\n",
    "\n",
    "#encoder declaration for preprocessing\n",
    "encoder = preprocessing.LabelEncoder()\n",
    "encoded_garage = encoder.fit_transform(feature_columns[7])\n",
    "\n",
    "#normalize the encoding into a list and reinsert it into their respective lists\n",
    "temporary_list = []\n",
    "\n",
    "for x in encoded_garage: \n",
    "    temporary_list.append(x)\n",
    "feature_columns[7] = temporary_list\n",
    "\n",
    "for x in range(0, len(feature_columns[0])):\n",
    "    feature_set.append([feature_columns[0][x], feature_columns[1][x], feature_columns[2][x], \n",
    "                        feature_columns[3][x], feature_columns[4][x], feature_columns[5][x],\n",
    "                        feature_columns[6][x], feature_columns[7][x]])\n",
    "for x in range(0, len(label_columns)):\n",
    "    label_set.append(label_columns[x])"
   ]
  },
  {
   "cell_type": "code",
   "execution_count": 4,
   "id": "bcc459fa-7ab3-4bb7-8667-eef3363791be",
   "metadata": {
    "tags": []
   },
   "outputs": [],
   "source": [
    "#declare the learning model and fit to the model\n",
    "decision_tree = tree.DecisionTreeClassifier()\n",
    "decision_tree = decision_tree.fit(feature_set, label_set)"
   ]
  },
  {
   "cell_type": "code",
   "execution_count": 5,
   "id": "4749e93b-a3bc-461f-abf7-3a483a8e64b5",
   "metadata": {
    "tags": []
   },
   "outputs": [
    {
     "data": {
      "text/plain": [
       "['real-estate-rbp-v1.joblib']"
      ]
     },
     "execution_count": 5,
     "metadata": {},
     "output_type": "execute_result"
    }
   ],
   "source": [
    "dump(decision_tree, pathlib.Path('real-estate-rbp-v1.joblib'))"
   ]
  },
  {
   "cell_type": "code",
   "execution_count": null,
   "id": "a1c05d8b-6d47-47f2-8c95-74456e626702",
   "metadata": {},
   "outputs": [],
   "source": []
  }
 ],
 "metadata": {
  "kernelspec": {
   "display_name": "Python 3 (ipykernel)",
   "language": "python",
   "name": "python3"
  },
  "language_info": {
   "codemirror_mode": {
    "name": "ipython",
    "version": 3
   },
   "file_extension": ".py",
   "mimetype": "text/x-python",
   "name": "python",
   "nbconvert_exporter": "python",
   "pygments_lexer": "ipython3",
   "version": "3.11.3"
  }
 },
 "nbformat": 4,
 "nbformat_minor": 5
}
