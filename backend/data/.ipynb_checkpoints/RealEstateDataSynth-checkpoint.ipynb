{
 "cells": [
  {
   "cell_type": "code",
   "execution_count": 1,
   "id": "f59662ee-cead-4703-84d3-a4892a5cd53e",
   "metadata": {
    "tags": []
   },
   "outputs": [],
   "source": [
    "import csv\n",
    "import datetime\n",
    "from datetime import datetime\n",
    "import numpy as np\n",
    "import random\n",
    "import statistics\n",
    "import time"
   ]
  },
  {
   "cell_type": "code",
   "execution_count": 2,
   "id": "c417ddf2-0de7-4907-ae33-db9de1a6d494",
   "metadata": {
    "tags": []
   },
   "outputs": [],
   "source": [
    "# Global Variables\n",
    "prices_avg = [73000.0, 456479.8333, 359000.0, 366666.6667, 292250.0, 250950.0, 369997.5, 379250.0, \n",
    "              300466.5, 448333.3333, 451300.0, 800848.25, 327803.5556, 365000.0, 414277.3333, 1692500.0, \n",
    "              557461.8571, 390780.0, 1211875.0, 152475.0, 345000.0, 305577.0, 389000.0, 199999.5, 217700.0, \n",
    "              349816.6667, 232500.0, 189447.2, 362566.6667, 315300.0, 534700.0, 347746.0, 438333.3333, 296780.0, \n",
    "              279950.0, 409938.1333, 379722.5, 367557.4444, 40839.71605, 2209900.0]\n",
    "prices_stdev = [73000.0, 131508.9229, 51831.45763, 66374.35917, 33431.83363, 36050.0, 50002.5, 65750.0, 78415.33042, \n",
    "                73295.44476, 158785.9566, 288540.3756, 36910.70003, 25000.0, 186531.2127, 1307500.0, 142981.9764, \n",
    "                28337.1417, 373392.6176, 96628.6804, 20000.0, 47421.56789, 137355.9852, 75000.5, 41140.22093, 88465.44366, \n",
    "                2500.0, 81050.44445, 12256.51754, 119135.4132, 190952.6512, 105172.0365, 152005.1169, 47161.78114, 30050.0, \n",
    "                122411.7048, 117951.3693, 109522.3918, 93870.70545, 552475.0]\n",
    "sqft_avg = [2447.0, 2583.333333, 2413.75, 2134.333333, 1474.0, 1208.0, 2684.0, 2229.0, 1672.166667, 2402.666667, 2282.0, 2845.5, \n",
    "            1904.555556, 1739.0, 2072.333333, 3404.5, 3252.857143, 2723.4, 4154.75, 2537.75, 1379.0, 1720.2, 4453.0, 1251.0, \n",
    "            1334.222222, 1936.0, 1326.5, 2995.6, 1585.666667, 2305.0, 2868.25, 2037.0, 2625.666667, 1672.2, 1915.0, 2273.066667, \n",
    "            1825.0, 1839.555556, 2282.666667, 10080.0]\n",
    "sqft_stdev = [534.0, 767.5887933, 719.3616528, 436.1324977, 317.1742423, 56.0, 906.0, 358.0, 466.7481179, 600.3761784, 610.2037911, \n",
    "              1717.599269, 314.5056478, 53.0, 686.421801, 1812.5, 943.8251092, 783.7911967, 991.1262218, 1508.32811, 116.0, 256.2470683, \n",
    "              3597.358012, 265.0, 350.0532587, 488.4185364, 40.5, 3654.070859, 181.0641384, 1109.371293, 528.2482253, 466.9899357, \n",
    "              604.6025324, 287.3899094, 580.0, 637.5134474, 183.5905771, 513.8772251, 586.4848203, 2520.0]\n",
    "zip_codes = [75052, 76001, 76002, 76012, 76013, 76014, 76017, 76018, 76020, 76021, 76028, 76034, 76036, 76039, 76040, 76051, 76052, \n",
    "             76063, 76092, 76104, 76107, 76108, 76109, 76112, 76114, 76116, 76117, 76119, 76120, 76123, 76126, 76131, 76135, 76137, \n",
    "             76140, 76179, 76180, 76182, 76244, 76248]\n",
    "\n",
    "start_date = '1/1/2022'\n",
    "end_date = '3/31/2023'\n",
    "end_range = 30000"
   ]
  },
  {
   "cell_type": "code",
   "execution_count": 3,
   "id": "f1dce18b-4a2a-4271-b995-29bfad7669a7",
   "metadata": {
    "tags": []
   },
   "outputs": [],
   "source": [
    "def determine_time_range(start, end, t_format, proportion):\n",
    "    start_time = time.mktime(time.strptime(start, t_format))\n",
    "    end_time = time.mktime(time.strptime(end, t_format))\n",
    "    p_time = start_time + proportion * (end_time - start_time)\n",
    "    return time.strftime(t_format, time.localtime(p_time))"
   ]
  },
  {
   "cell_type": "code",
   "execution_count": 4,
   "id": "c6567b2b-44ea-40af-9486-4c2428a9a489",
   "metadata": {
    "tags": []
   },
   "outputs": [],
   "source": [
    "def synthesize_random_date(start, end, proportion):\n",
    "    return determine_time_range(start, end, '%m/%d/%Y', proportion)"
   ]
  },
  {
   "cell_type": "code",
   "execution_count": 5,
   "id": "b3489fce-24b9-407d-a105-82f5f5a4ccf9",
   "metadata": {
    "tags": []
   },
   "outputs": [],
   "source": [
    "def synthesize_bed(houseSqft):\n",
    "    totalBed =0\n",
    "    if(houseSqft <1500): #2-3 bed for house below 1500sqft\n",
    "        totalBed = random.randint(2,3)\n",
    "        return totalBed  \n",
    "    \n",
    "    elif (houseSqft >= 1500 and houseSqft <=2800):                #2-4 bed for house below 2800 sqft\n",
    "        totalBed = random.randint(2,4)\n",
    "        return totalBed\n",
    "        \n",
    "    elif(houseSqft > 2800 and houseSqft <=3999) :                #3-5 bed for house below 4000sqft\n",
    "        totalBed = random.randint(3,5)\n",
    "        return totalBed\n",
    "    else:\n",
    "        totalBed = random.randint(5,8)                          #5-8 bed for house above 4000sqft\n",
    "                \n",
    "        return totalBed"
   ]
  },
  {
   "cell_type": "code",
   "execution_count": 6,
   "id": "b6bdbfa4-0a36-4d95-96e9-9bc8a312fad5",
   "metadata": {
    "tags": []
   },
   "outputs": [],
   "source": [
    "def synthesize_bath(houseSqft):\n",
    "    fullBath =0\n",
    "    halfBath =0\n",
    "    totalBath =0.0\n",
    "    if houseSqft < 1500: #1-2 baths for house below 1500sqft\n",
    "        fullBath = random.randint(1,2)\n",
    "        totalBath = fullBath     \n",
    "        return totalBath   \n",
    "    \n",
    "    elif (houseSqft >= 1500 and houseSqft <=2800):                #2-3 bath for house below 2800 sqft\n",
    "        fullBath = random.randint(2,3)\n",
    "        halfBath = random.randint(0,1)\n",
    "        if(halfBath==1):\n",
    "            totalBath = fullBath +0.5\n",
    "        return totalBath\n",
    "        \n",
    "    elif(houseSqft > 2800 and houseSqft <= 3999):                #3-5 bath for house below 4000sqft\n",
    "        fullBath = random.randint(3,5)\n",
    "        if(fullBath >=4):                   #if it's 4 and more baths it will have a half bath\n",
    "            totalBath = fullBath + 0.5\n",
    "            return totalBath\n",
    "        else:\n",
    "            halfBath = random.randint(0,1)\n",
    "            if(halfBath==1):\n",
    "                totalBath = fullBath + 0.5\n",
    "            return totalBath\n",
    "    else:\n",
    "        totalBath = random.randint(4,6)+0.5 #house w/ 4-6 baths will have a half bath                \n",
    "        return totalBath"
   ]
  },
  {
   "cell_type": "code",
   "execution_count": 7,
   "id": "f31904e3-67d1-4992-8eb4-305ec6914758",
   "metadata": {
    "tags": []
   },
   "outputs": [],
   "source": [
    "def synthesize_random_year():\n",
    "    return random.randint(1930, 2018)"
   ]
  },
  {
   "cell_type": "code",
   "execution_count": 8,
   "id": "fa3c789a-eac5-4041-8c27-be27e576c0f7",
   "metadata": {
    "tags": []
   },
   "outputs": [],
   "source": [
    "def synthesize_has_garage():\n",
    "    bit = random.getrandbits(1)\n",
    "    garage = bool(bit)\n",
    "    return garage"
   ]
  },
  {
   "cell_type": "code",
   "execution_count": 11,
   "id": "ab3bc31a-7ce3-4f61-8870-2eb9dece1a7b",
   "metadata": {
    "tags": []
   },
   "outputs": [],
   "source": [
    "def sythesize_data_set(date_start, date_end, end_point):\n",
    "    file = open('synthetic_data_set_rbp.csv', 'w', newline='')\n",
    "    field_names = ['price', 'total sq. ft.', 'days to sell', \n",
    "                   'zip code', 'bedrooms', 'bathrooms', 'half bathrooms', 'year built', 'garage']\n",
    "    csv_writer = csv.DictWriter(file, fieldnames = field_names)\n",
    "    csv_writer.writeheader()\n",
    "    \n",
    "    iterator = end_point\n",
    "    \n",
    "    while iterator != 0:\n",
    "        random_zip = random.randrange(0,40,2)\n",
    "        synthetic_zips = zip_codes[random_zip]\n",
    "        synthetic_price = round(np.random.normal(prices_avg[random_zip], prices_stdev[random_zip]))\n",
    "        if synthetic_price > 25000:\n",
    "            synthetic_sqft = round(np.random.normal(sqft_avg[random_zip], sqft_stdev[random_zip]))\n",
    "            if synthetic_sqft > 1000:\n",
    "                #synthetic_ppsf = round(synthetic_price / synthetic_sqft, 2)\n",
    "                date_listed = synthesize_random_date(date_start, date_end, random.random())\n",
    "                date_sold = synthesize_random_date(date_listed, date_end, random.random())\n",
    "                date_listed_object = datetime.strptime(date_listed, '%m/%d/%Y')\n",
    "                date_sold_object = datetime.strptime(date_sold, '%m/%d/%Y')\n",
    "                days_between = (date_sold_object - date_listed_object).days\n",
    "                has_garage = synthesize_has_garage()\n",
    "                date_built = synthesize_random_year()\n",
    "                bed_number = synthesize_bed(synthetic_sqft)\n",
    "                total_bath_number = synthesize_bath(synthetic_sqft)\n",
    "                if total_bath_number % 1 == 0.5:\n",
    "                    whole_bath_number = total_bath_number - 0.5\n",
    "                    half_bath_number = 1\n",
    "                else:\n",
    "                    whole_bath_number = total_bath_number\n",
    "                    half_bath_number = 0\n",
    "                #print(synthetic_price, synthetic_sqft, synthetic_ppsf, days_between, zip_codes[random_zip],\n",
    "                #      bed_number, whole_bath_number, half_bath_number, date_built, has_garage)\n",
    "                #                                      'ppsf'           : synthetic_ppsf,\n",
    "                csv_writer.writerow({'price'          : synthetic_price,\n",
    "                                     'total sq. ft.'  : synthetic_sqft,\n",
    "                                     'days to sell'   : days_between,\n",
    "                                     'zip code'       : zip_codes[random_zip],\n",
    "                                     'bedrooms'       : bed_number,\n",
    "                                     'bathrooms'      : whole_bath_number,\n",
    "                                     'half bathrooms' : half_bath_number,\n",
    "                                     'year built'     : date_built,\n",
    "                                     'garage'         : has_garage})\n",
    "\n",
    "                total_bath_number = 0\n",
    "                iterator = iterator - 1"
   ]
  },
  {
   "cell_type": "code",
   "execution_count": 12,
   "id": "16816111-c6aa-483b-83b5-d7e4a96c1361",
   "metadata": {
    "tags": []
   },
   "outputs": [],
   "source": [
    "sythesize_data_set(start_date, end_date, end_range)"
   ]
  },
  {
   "cell_type": "code",
   "execution_count": null,
   "id": "5516ca5b-4d3e-4820-a2df-29f640a7515e",
   "metadata": {},
   "outputs": [],
   "source": []
  }
 ],
 "metadata": {
  "kernelspec": {
   "display_name": "Python 3 (ipykernel)",
   "language": "python",
   "name": "python3"
  },
  "language_info": {
   "codemirror_mode": {
    "name": "ipython",
    "version": 3
   },
   "file_extension": ".py",
   "mimetype": "text/x-python",
   "name": "python",
   "nbconvert_exporter": "python",
   "pygments_lexer": "ipython3",
   "version": "3.11.3"
  }
 },
 "nbformat": 4,
 "nbformat_minor": 5
}
